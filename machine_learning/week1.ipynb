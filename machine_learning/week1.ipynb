{
  "nbformat": 4,
  "nbformat_minor": 0,
  "metadata": {
    "colab": {
      "name": "week1.ipynb",
      "provenance": [],
      "collapsed_sections": []
    },
    "kernelspec": {
      "name": "python3",
      "display_name": "Python 3"
    },
    "language_info": {
      "name": "python"
    }
  },
  "cells": [
    {
      "cell_type": "code",
      "metadata": {
        "id": "71TA0sMlaTRY"
      },
      "source": [
        "import numpy as np\n",
        "import pandas as pd\n",
        "import matplotlib.pyplot as plt"
      ],
      "execution_count": null,
      "outputs": []
    },
    {
      "cell_type": "markdown",
      "metadata": {
        "id": "7meiee6ibGmW"
      },
      "source": [
        "Create a dataset of student scores:"
      ]
    },
    {
      "cell_type": "code",
      "metadata": {
        "id": "02diEFEwbKoU"
      },
      "source": [
        "students = range(1, 21)\n",
        "scores = np.random.randint(60, 101, size=20)\n",
        "student_scores = pd.DataFrame(list(zip(students, scores)), columns=['student', 'score'])"
      ],
      "execution_count": null,
      "outputs": []
    },
    {
      "cell_type": "markdown",
      "metadata": {
        "id": "cb8ivj7CdKeJ"
      },
      "source": [
        "View some data:"
      ]
    },
    {
      "cell_type": "code",
      "metadata": {
        "id": "Fv-vjLS5d0UY",
        "colab": {
          "base_uri": "https://localhost:8080/",
          "height": 202
        },
        "outputId": "028c5b8f-3469-4ab7-d7f0-393e0c4edf58"
      },
      "source": [
        "student_scores.head()"
      ],
      "execution_count": null,
      "outputs": [
        {
          "output_type": "execute_result",
          "data": {
            "text/html": [
              "<div>\n",
              "<style scoped>\n",
              "    .dataframe tbody tr th:only-of-type {\n",
              "        vertical-align: middle;\n",
              "    }\n",
              "\n",
              "    .dataframe tbody tr th {\n",
              "        vertical-align: top;\n",
              "    }\n",
              "\n",
              "    .dataframe thead th {\n",
              "        text-align: right;\n",
              "    }\n",
              "</style>\n",
              "<table border=\"1\" class=\"dataframe\">\n",
              "  <thead>\n",
              "    <tr style=\"text-align: right;\">\n",
              "      <th></th>\n",
              "      <th>student</th>\n",
              "      <th>score</th>\n",
              "    </tr>\n",
              "  </thead>\n",
              "  <tbody>\n",
              "    <tr>\n",
              "      <th>0</th>\n",
              "      <td>1</td>\n",
              "      <td>70</td>\n",
              "    </tr>\n",
              "    <tr>\n",
              "      <th>1</th>\n",
              "      <td>2</td>\n",
              "      <td>70</td>\n",
              "    </tr>\n",
              "    <tr>\n",
              "      <th>2</th>\n",
              "      <td>3</td>\n",
              "      <td>73</td>\n",
              "    </tr>\n",
              "    <tr>\n",
              "      <th>3</th>\n",
              "      <td>4</td>\n",
              "      <td>79</td>\n",
              "    </tr>\n",
              "    <tr>\n",
              "      <th>4</th>\n",
              "      <td>5</td>\n",
              "      <td>65</td>\n",
              "    </tr>\n",
              "  </tbody>\n",
              "</table>\n",
              "</div>"
            ],
            "text/plain": [
              "   student  score\n",
              "0        1     70\n",
              "1        2     70\n",
              "2        3     73\n",
              "3        4     79\n",
              "4        5     65"
            ]
          },
          "metadata": {
            "tags": []
          },
          "execution_count": 53
        }
      ]
    },
    {
      "cell_type": "markdown",
      "metadata": {
        "id": "sHEJxgh7d3lz"
      },
      "source": [
        "See basic stats:"
      ]
    },
    {
      "cell_type": "code",
      "metadata": {
        "colab": {
          "base_uri": "https://localhost:8080/"
        },
        "id": "Pk9Ja6jPeHd2",
        "outputId": "c57a071e-0d4a-4604-9533-560b27d23972"
      },
      "source": [
        "student_scores['score'].describe()"
      ],
      "execution_count": null,
      "outputs": [
        {
          "output_type": "execute_result",
          "data": {
            "text/plain": [
              "count    20.000000\n",
              "mean     78.400000\n",
              "std      11.869465\n",
              "min      63.000000\n",
              "25%      68.750000\n",
              "50%      78.500000\n",
              "75%      88.500000\n",
              "max      99.000000\n",
              "Name: score, dtype: float64"
            ]
          },
          "metadata": {
            "tags": []
          },
          "execution_count": 54
        }
      ]
    },
    {
      "cell_type": "markdown",
      "metadata": {
        "id": "qVNuXS8UhGM7"
      },
      "source": [
        "Logical conditions can be used to access rows and columns of dataframes. Did anyone get a perfect score?"
      ]
    },
    {
      "cell_type": "code",
      "metadata": {
        "colab": {
          "base_uri": "https://localhost:8080/",
          "height": 49
        },
        "id": "rbLai1wphP53",
        "outputId": "51685ff7-9a3b-4c5c-b799-9e209fe20c83"
      },
      "source": [
        "student_scores[student_scores['score'] == 100]"
      ],
      "execution_count": null,
      "outputs": [
        {
          "output_type": "execute_result",
          "data": {
            "text/html": [
              "<div>\n",
              "<style scoped>\n",
              "    .dataframe tbody tr th:only-of-type {\n",
              "        vertical-align: middle;\n",
              "    }\n",
              "\n",
              "    .dataframe tbody tr th {\n",
              "        vertical-align: top;\n",
              "    }\n",
              "\n",
              "    .dataframe thead th {\n",
              "        text-align: right;\n",
              "    }\n",
              "</style>\n",
              "<table border=\"1\" class=\"dataframe\">\n",
              "  <thead>\n",
              "    <tr style=\"text-align: right;\">\n",
              "      <th></th>\n",
              "      <th>student</th>\n",
              "      <th>score</th>\n",
              "    </tr>\n",
              "  </thead>\n",
              "  <tbody>\n",
              "  </tbody>\n",
              "</table>\n",
              "</div>"
            ],
            "text/plain": [
              "Empty DataFrame\n",
              "Columns: [student, score]\n",
              "Index: []"
            ]
          },
          "metadata": {
            "tags": []
          },
          "execution_count": 55
        }
      ]
    },
    {
      "cell_type": "markdown",
      "metadata": {
        "id": "g-JjKS6Ve2cq"
      },
      "source": [
        "Find \n",
        "\n",
        "<ol>\n",
        "  <li> student 8's score.</li>\n",
        "  <li> the number of students who scored above 85.</li>\n",
        "  <li> the number of students who scored below 70.</li>\n",
        "</ol>\n",
        "\n",
        "\n"
      ]
    },
    {
      "cell_type": "code",
      "metadata": {
        "id": "GLvxc3RMfLje",
        "colab": {
          "base_uri": "https://localhost:8080/",
          "height": 233
        },
        "outputId": "3a6b46d1-9b3f-4088-e486-07fd3c88ee64"
      },
      "source": [
        "#@title\n",
        "student_scores[student_scores['student'] == 8] # or student_scores.iloc[9]\n",
        "student_scores[student_scores['score'] > 85]\n",
        "student_scores[student_scores['score'] < 70]"
      ],
      "execution_count": null,
      "outputs": [
        {
          "output_type": "execute_result",
          "data": {
            "text/html": [
              "<div>\n",
              "<style scoped>\n",
              "    .dataframe tbody tr th:only-of-type {\n",
              "        vertical-align: middle;\n",
              "    }\n",
              "\n",
              "    .dataframe tbody tr th {\n",
              "        vertical-align: top;\n",
              "    }\n",
              "\n",
              "    .dataframe thead th {\n",
              "        text-align: right;\n",
              "    }\n",
              "</style>\n",
              "<table border=\"1\" class=\"dataframe\">\n",
              "  <thead>\n",
              "    <tr style=\"text-align: right;\">\n",
              "      <th></th>\n",
              "      <th>student</th>\n",
              "      <th>score</th>\n",
              "    </tr>\n",
              "  </thead>\n",
              "  <tbody>\n",
              "    <tr>\n",
              "      <th>4</th>\n",
              "      <td>5</td>\n",
              "      <td>65</td>\n",
              "    </tr>\n",
              "    <tr>\n",
              "      <th>5</th>\n",
              "      <td>6</td>\n",
              "      <td>63</td>\n",
              "    </tr>\n",
              "    <tr>\n",
              "      <th>9</th>\n",
              "      <td>10</td>\n",
              "      <td>63</td>\n",
              "    </tr>\n",
              "    <tr>\n",
              "      <th>11</th>\n",
              "      <td>12</td>\n",
              "      <td>64</td>\n",
              "    </tr>\n",
              "    <tr>\n",
              "      <th>13</th>\n",
              "      <td>14</td>\n",
              "      <td>65</td>\n",
              "    </tr>\n",
              "    <tr>\n",
              "      <th>20</th>\n",
              "      <td>21</td>\n",
              "      <td>0</td>\n",
              "    </tr>\n",
              "  </tbody>\n",
              "</table>\n",
              "</div>"
            ],
            "text/plain": [
              "    student  score\n",
              "4         5     65\n",
              "5         6     63\n",
              "9        10     63\n",
              "11       12     64\n",
              "13       14     65\n",
              "20       21      0"
            ]
          },
          "metadata": {
            "tags": []
          },
          "execution_count": 88
        }
      ]
    },
    {
      "cell_type": "markdown",
      "metadata": {
        "id": "TtJOpMlkjhMj"
      },
      "source": [
        "How do outliers affect the data? Which statistic most accurately describes the data?"
      ]
    },
    {
      "cell_type": "code",
      "metadata": {
        "colab": {
          "base_uri": "https://localhost:8080/"
        },
        "id": "bFpqcHjTjkPq",
        "outputId": "c3e3c033-2523-4b1d-b0e6-fb6e7a788ec9"
      },
      "source": [
        "student_scores.loc[len(student_scores)] = [21, 0]\n",
        "student_scores['score'].describe()"
      ],
      "execution_count": null,
      "outputs": [
        {
          "output_type": "execute_result",
          "data": {
            "text/plain": [
              "count    21.000000\n",
              "mean     74.666667\n",
              "std      20.652683\n",
              "min       0.000000\n",
              "25%      65.000000\n",
              "50%      78.000000\n",
              "75%      88.000000\n",
              "max      99.000000\n",
              "Name: score, dtype: float64"
            ]
          },
          "metadata": {
            "tags": []
          },
          "execution_count": 56
        }
      ]
    },
    {
      "cell_type": "markdown",
      "metadata": {
        "id": "mukh-Ue22gn9"
      },
      "source": [
        "Is the data skewed? If so, towards which direction?"
      ]
    },
    {
      "cell_type": "code",
      "metadata": {
        "colab": {
          "base_uri": "https://localhost:8080/",
          "height": 295
        },
        "id": "hsh9r3Kxwsew",
        "outputId": "bde76df4-b591-4280-ea9c-b5efa0022ee6"
      },
      "source": [
        "plt.hist(student_scores['score'])\n",
        "plt.xlabel('Student score')\n",
        "plt.ylabel('Number of students')\n",
        "plt.title('Test results')\n",
        "plt.show()"
      ],
      "execution_count": null,
      "outputs": [
        {
          "output_type": "display_data",
          "data": {
            "image/png": "[encoded data removed]",
            "text/plain": [
              "<Figure size 432x288 with 1 Axes>"
            ]
          },
          "metadata": {
            "tags": [],
            "needs_background": "light"
          }
        }
      ]
    },
    {
      "cell_type": "markdown",
      "metadata": {
        "id": "aZMAkXVo2lAv"
      },
      "source": [
        "Create and plot your own data that is skewed in the other direction."
      ]
    },
    {
      "cell_type": "code",
      "metadata": {
        "id": "ZVQwhoZx2tr8",
        "cellView": "form"
      },
      "source": [
        "#@title\n",
        "bad_scores = np.random.randint(20, 60, size=20)\n",
        "bad_scores = np.concatenate([bad_scores, [100]])\n",
        "bad_scores = pd.DataFrame(bad_scores, columns=['score'])"
      ],
      "execution_count": null,
      "outputs": []
    },
    {
      "cell_type": "code",
      "metadata": {
        "colab": {
          "base_uri": "https://localhost:8080/",
          "height": 295
        },
        "cellView": "form",
        "id": "H4ZuMaPk5I7O",
        "outputId": "bf480a20-7e53-4651-8f83-ccc5075df9df"
      },
      "source": [
        "#@title\n",
        "plt.hist(bad_scores['score'])\n",
        "plt.xlabel('Student score')\n",
        "plt.ylabel('Number of students')\n",
        "plt.title('Test results')\n",
        "plt.show()"
      ],
      "execution_count": null,
      "outputs": [
        {
          "output_type": "display_data",
          "data": {
            "image/png": "[encoded data removed]",
            "text/plain": [
              "<Figure size 432x288 with 1 Axes>"
            ]
          },
          "metadata": {
            "tags": [],
            "needs_background": "light"
          }
        }
      ]
    },
    {
      "cell_type": "markdown",
      "metadata": {
        "id": "MvwKAZ0c1_xP"
      },
      "source": [
        "The number of trials/amount of data collected has an effect on data patterns."
      ]
    },
    {
      "cell_type": "code",
      "metadata": {
        "id": "1licLsENUCZg"
      },
      "source": [
        "def roll_dice(n_trials):\n",
        "  rolls = {1:0, 2:0, 3:0, 4:0, 5:0, 6:0}\n",
        "  for _ in range(n_trials):\n",
        "    roll = np.random.randint(1, 7)\n",
        "    rolls[roll] += 1\n",
        "  return rolls\n",
        "\n",
        "def graph_dice_rolls(rolls):\n",
        "  min_frequency = min(rolls.values())\n",
        "  max_frequency = max(rolls.values())\n",
        "\n",
        "  plt.bar(x=rolls.keys(), height=rolls.values())\n",
        "  plt.yticks(range(min_frequency, max_frequency+1, max((max_frequency + 1 - min_frequency) // 10, 1)))\n",
        "  plt.xlabel('Die roll')\n",
        "  plt.ylabel('Frequency')\n",
        "  plt.title('Frequency of dice rolls')\n",
        "  plt.show"
      ],
      "execution_count": null,
      "outputs": []
    },
    {
      "cell_type": "markdown",
      "metadata": {
        "id": "HE7Q_b-will6"
      },
      "source": [
        "Experiment with rolling different numbers of dice. What happens as the number of rolls increases?"
      ]
    },
    {
      "cell_type": "markdown",
      "metadata": {
        "id": "4Ea1SbEvivbJ"
      },
      "source": [
        "What about rolling two dice and recording their sum? Write corresponding functions."
      ]
    },
    {
      "cell_type": "code",
      "metadata": {
        "colab": {
          "base_uri": "https://localhost:8080/",
          "height": 295
        },
        "id": "FHjRMNB-i7Yo",
        "outputId": "6d7fc092-664b-4f13-abdd-cea499a25155"
      },
      "source": [
        "#@title\n",
        "def roll_two_dice(n_trials):\n",
        "  rolls = {2:0, 3:0, 4:0, 5:0, 6:0, 7:0, 8:0, 9:0, 10:0, 11:0, 12:0}\n",
        "  for _ in range(n_trials):\n",
        "    roll = np.random.randint(1, 7) + np.random.randint(1,7)\n",
        "    rolls[roll] += 1\n",
        "  return rolls\n",
        "\n",
        "graph_dice_rolls(roll_two_dice(10000))\n"
      ],
      "execution_count": null,
      "outputs": [
        {
          "output_type": "display_data",
          "data": {
            "image/png": "[encoded data removed]",
            "text/plain": [
              "<Figure size 432x288 with 1 Axes>"
            ]
          },
          "metadata": {
            "tags": [],
            "needs_background": "light"
          }
        }
      ]
    }
  ]
}